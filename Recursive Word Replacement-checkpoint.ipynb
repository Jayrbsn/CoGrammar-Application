{
 "cells": [
  {
   "cell_type": "code",
   "execution_count": 22,
   "metadata": {},
   "outputs": [
    {
     "name": "stdout",
     "output_type": "stream",
     "text": [
      "Enter your word (or enter 0 to quit): \n",
      "hello world\n",
      "Please enter the substring you wish to find: \n",
      "tits\n",
      "\n",
      "*Error, there is no 'tits' in hello world. Try again :)\n",
      "\n",
      "Enter your word (or enter 0 to quit): \n",
      "hello world\n",
      "Please enter the substring you wish to find: \n",
      "or\n",
      "Please enter a string to replace the given substring: \n",
      "tits\n",
      "Your new string is: hello wtitsld\n",
      "\n",
      "Enter your word (or enter 0 to quit): \n",
      "0\n",
      "OK bye :(\n"
     ]
    }
   ],
   "source": [
    "\n",
    "#Resource: https://stackoverflow.com/questions/54745088/simple-search-and-replace-in-python-using-recursion-and-user-input\n",
    "\n",
    "\n",
    "#Method declaration\n",
    "def recursive_string_replacement():\n",
    "    \n",
    "    \n",
    "    #Prompt user to enter a word or quit the program\n",
    "    string = input(\"Enter your word (or enter 0 to quit): \\n\")\n",
    "    \n",
    "    if string == \"0\":\n",
    "        print(\"OK bye :(\")\n",
    "        \n",
    "        \n",
    "    #Assuming user doesn't quit, prompt them for a substring\n",
    "    #If else statement checks to see if substring exists within string\n",
    "    #If substring is not found within string, notify user and call recursive_string_replacement() again to start from scratch\n",
    "    #If it does exist, create a new variable to store the user's desired replacement substring\n",
    "    #Call the inbuilt .replace() method to replace substring with replacment\n",
    "    #Print statement to show user end result\n",
    "    #Call recursive_string_replacement() to start process again\n",
    "    else:\n",
    "        substring = input(\"Please enter the substring you wish to find: \\n\")\n",
    "        if substring not in(string):\n",
    "            print (\"\\n*Error, there is no '{}' in {}. Try again :)\\n\".format(substring, string))\n",
    "            recursive_string_replacement()\n",
    "        else: \n",
    "            replacement = input(\"Please enter a string to replace the given substring: \\n\")\n",
    "            new_string = string.replace(substring, replacement)\n",
    "            print(\"Your new string is: \" + new_string + \"\\n\")\n",
    "            recursive_string_replacement()\n",
    "\n",
    "            \n",
    "#Call method to start the first loop\n",
    "recursive_string_replacement()"
   ]
  },
  {
   "cell_type": "code",
   "execution_count": null,
   "metadata": {},
   "outputs": [],
   "source": []
  },
  {
   "cell_type": "code",
   "execution_count": null,
   "metadata": {},
   "outputs": [],
   "source": []
  }
 ],
 "metadata": {
  "kernelspec": {
   "display_name": "Python 3",
   "language": "python",
   "name": "python3"
  },
  "language_info": {
   "codemirror_mode": {
    "name": "ipython",
    "version": 3
   },
   "file_extension": ".py",
   "mimetype": "text/x-python",
   "name": "python",
   "nbconvert_exporter": "python",
   "pygments_lexer": "ipython3",
   "version": "3.8.5"
  }
 },
 "nbformat": 4,
 "nbformat_minor": 4
}
